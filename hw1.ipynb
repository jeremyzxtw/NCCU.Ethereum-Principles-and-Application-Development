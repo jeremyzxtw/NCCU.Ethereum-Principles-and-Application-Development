{
 "cells": [
  {
   "cell_type": "markdown",
   "metadata": {},
   "source": [
    "# Homework 1 (Total: 100%)"
   ]
  },
  {
   "cell_type": "markdown",
   "metadata": {},
   "source": [
    "## Q1: Write a password generator (20%)\n",
    "\n",
    "### Password requirements:\n",
    "\n",
    "- Write a password generator, and the password **MUST** satisfy the following rules:\n",
    "    - at least 8 characters\n",
    "    - having lowercase letters\n",
    "    - having numbers\n"
   ]
  },
  {
   "cell_type": "code",
   "execution_count": 1,
   "metadata": {},
   "outputs": [
    {
     "data": {
      "text/plain": [
       "'6f13498aff5d6c30'"
      ]
     },
     "execution_count": 1,
     "metadata": {},
     "output_type": "execute_result"
    }
   ],
   "source": [
    "##### Your code starts here #####\n",
    "from random import getrandbits\n",
    "\n",
    "def remove_0x(hexstr):\n",
    "    if hexstr.startswith(\"0x\") or hexstr.startswith(\"0X\"):\n",
    "        return hexstr[2:]\n",
    "    return hexstr\n",
    "\n",
    "randbits = getrandbits(64)        # Get a random 256-bit number\n",
    "privkey = hex(randbits)            # Binary to hexadecimal\n",
    "privkey = remove_0x(privkey)\n",
    "privkey"
   ]
  },
  {
   "cell_type": "markdown",
   "metadata": {},
   "source": [
    "## Q2: Write a random number to a file (20%)\n",
    "\n",
    "### Requirements:\n",
    "\n",
    "- Create a file named **number.txt**\n",
    "- Generate a random number\n",
    "- Write the random number to the file"
   ]
  },
  {
   "cell_type": "code",
   "execution_count": 2,
   "metadata": {},
   "outputs": [],
   "source": [
    "##### Your code starts here #####\n",
    "import random\n",
    "\n",
    "b = random.randrange(99999)\n",
    "f = open(\"number.txt\", \"a\")\n",
    "f.write(str(b))\n",
    "f.close()"
   ]
  },
  {
   "cell_type": "markdown",
   "metadata": {},
   "source": [
    "## Q3: Use secrets.token_hex() to generate an Ethereum account (20%)\n",
    "\n",
    "\n",
    "### Ethereum address\n",
    "\n",
    "1. **Public key** = ECDSA_secp255k1(**Private key**)\n",
    "2. **Hash_result** = KECCAK_256(**Public key**)\n",
    "3. **Address** = '0x' + last20bytes(**Hash_result**)\n",
    "\n",
    "\n",
    "### Definition\n",
    "\n",
    "- **Private key**: generate a random 256-bit (32 bytes) number\n",
    "- **Public key**: calculate a public key from the private key\n"
   ]
  },
  {
   "cell_type": "markdown",
   "metadata": {},
   "source": [
    "## import related modules and packages"
   ]
  },
  {
   "cell_type": "code",
   "execution_count": 3,
   "metadata": {},
   "outputs": [],
   "source": [
    "import sha3, sys\n",
    "\n",
    "from random import getrandbits\n",
    "from binascii import hexlify, unhexlify\n",
    "\n",
    "from coincurve import PublicKey\n",
    "import ecdsa"
   ]
  },
  {
   "cell_type": "code",
   "execution_count": 4,
   "metadata": {},
   "outputs": [
    {
     "name": "stdout",
     "output_type": "stream",
     "text": [
      "5dc262a7f94ed41841aa2d40a1800f8094ab61f0875c05522a68ba0e8e36ae44\n",
      "92d9b26f40b4daf733512b1f2decbbd95dd09b2e59df5ae1416f7b78eb33d3e122f56bff6dd3df8d160e8c5c6191fd7291a908e7dbf368d658ed54d2b0f1622a\n"
     ]
    },
    {
     "data": {
      "text/plain": [
       "'0xfb9e1c04d453386bc7a02e10242dd8c56ce9ad1b'"
      ]
     },
     "execution_count": 4,
     "metadata": {},
     "output_type": "execute_result"
    }
   ],
   "source": [
    "##### Your code starts here #####\n",
    "\n",
    "\n",
    "import secrets\n",
    "\n",
    "# step 1: generate a private key\n",
    "randbytes = secrets.token_hex(32)\n",
    "print(randbytes)\n",
    "\n",
    "# step 2: calculate a public key\n",
    "# TODO\n",
    "if len(randbytes) % 2 != 0:\n",
    "    bytes_privkey = unhexlify('0' + remove_0x(privkey))\n",
    "else:\n",
    "    bytes_privkey = unhexlify(remove_0x(privkey))\n",
    "    \n",
    "public_key = PublicKey.from_valid_secret(bytes_privkey).format(compressed=False)[1:]\n",
    "\n",
    "print(hexlify(public_key).decode())\n",
    "# step 3: generate an address\n",
    "# TODO\n",
    "\n",
    "def keccak(data):\n",
    "    k = sha3.keccak_256()\n",
    "    k.update(data)\n",
    "    return k.digest()\n",
    "\n",
    "address = '0x' + hexlify(keccak(public_key)[-20:]).decode()\n",
    "address\n"
   ]
  },
  {
   "cell_type": "markdown",
   "metadata": {},
   "source": [
    "## Q4: Use os.urandom() to generate an Ethereum account (20%)"
   ]
  },
  {
   "cell_type": "code",
   "execution_count": 5,
   "metadata": {},
   "outputs": [
    {
     "name": "stdout",
     "output_type": "stream",
     "text": [
      "cb7ed937864a507c11495cb5fd4d151b21fbef0f5f5af9c21e1c973e95f0562b\n",
      "c36abecb8ef23a01406c2a6d2f49915d1d8ad0aabce41f349f3a4975f09aba4866420afa9292877506c8c86e0a3e75dea35ca018ff393bf56d0fd2ef962ebd1e\n"
     ]
    },
    {
     "data": {
      "text/plain": [
       "'0x8ede59c491741ec71bd233822a06ce399ab642b2'"
      ]
     },
     "execution_count": 5,
     "metadata": {},
     "output_type": "execute_result"
    }
   ],
   "source": [
    "##### Your code starts here #####\n",
    "\n",
    "import os\n",
    "\n",
    "# step 1: generate a private key\n",
    "randbytes = hexlify(os.urandom(32)).decode()\n",
    "print(randbytes)\n",
    "\n",
    "# step 2: calculate a public key\n",
    "# TODO\n",
    "if len(randbytes) % 2 != 0:\n",
    "    bytes_privkey = unhexlify('0' + remove_0x(privkey))\n",
    "else:\n",
    "    bytes_privkey = unhexlify(remove_0x(privkey))\n",
    "    \n",
    "public_key = PublicKey.from_valid_secret(bytes_privkey).format(compressed=False)[1:]\n",
    "\n",
    "print(hexlify(public_key).decode())\n",
    "\n",
    "# step 3: generate an address\n",
    "# TODO\n",
    "\n",
    "\n",
    "address = '0x' + hexlify(keccak(public_key)[-20:]).decode()\n",
    "address\n",
    "\n"
   ]
  },
  {
   "cell_type": "markdown",
   "metadata": {},
   "source": [
    "## Q5: Generate a vanity address (20%)\n",
    "\n",
    "- What's a vanity address? (https://vanity-eth.tk/)\n",
    "    - ex: 0x**beef**61e900936dcb1e7ab4f240167d2d318f5346\n",
    "    - ex: 0x**5566**024ff661006db9b2190654650b8b6b009713\n",
    "- Tips: \n",
    "    1. Write a function to generate an Ethereum account\n",
    "    2. Check if the prefix of the account equals the value you specify"
   ]
  },
  {
   "cell_type": "code",
   "execution_count": 6,
   "metadata": {},
   "outputs": [
    {
     "name": "stdout",
     "output_type": "stream",
     "text": [
      "b'112kfFav7W33pUNBmjGZVYUYQgm65AZRgx'\n"
     ]
    }
   ],
   "source": [
    "##### Your code starts here #####\n",
    "from vanity_address.vanity_address import VanityAddressGenerator\n",
    "\n",
    "def callback(address):\n",
    "    return address.startswith(b'11')\n",
    "    \n",
    "vanity_address = VanityAddressGenerator.generate_one(callback=callback)\n",
    "print(vanity_address.address)"
   ]
  },
  {
   "cell_type": "markdown",
   "metadata": {},
   "source": [
    "## Q6: What is cryptographically secure pseudo random number generator? (PRNG)\n",
    "\n",
    "### (bonus 10%)"
   ]
  },
  {
   "cell_type": "markdown",
   "metadata": {},
   "source": [
    "Ans: \n",
    "\n",
    "密碼學安全偽亂數生成器（亦作密碼學偽亂數生成器，英文：Cryptographically secure pseudo-random number generator，通稱CSPRNG），是一種能夠通過運算得出密碼學安全偽亂數的偽亂數生成器。相較於統計學偽亂數生成器和更弱的偽亂數生成器，CSPRNG所生成的密碼學安全偽亂數具有額外的偽隨機屬性"
   ]
  },
  {
   "cell_type": "code",
   "execution_count": null,
   "metadata": {},
   "outputs": [],
   "source": []
  }
 ],
 "metadata": {
  "kernelspec": {
   "display_name": "Python 3",
   "language": "python",
   "name": "python3"
  },
  "language_info": {
   "codemirror_mode": {
    "name": "ipython",
    "version": 3
   },
   "file_extension": ".py",
   "mimetype": "text/x-python",
   "name": "python",
   "nbconvert_exporter": "python",
   "pygments_lexer": "ipython3",
   "version": "3.8.6"
  }
 },
 "nbformat": 4,
 "nbformat_minor": 4
}
